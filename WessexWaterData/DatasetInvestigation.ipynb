{
 "cells": [
  {
   "cell_type": "code",
   "execution_count": 1,
   "metadata": {},
   "outputs": [],
   "source": [
    "import pandas as pd\n",
    "import numpy as np\n",
    "import matplotlib.pyplot as plt"
   ]
  },
  {
   "cell_type": "code",
   "execution_count": 2,
   "metadata": {},
   "outputs": [],
   "source": [
    "data = pd.read_excel('full-data-acoustic-logger-leakage-challenge-january-update.xlsx', engine='openpyxl')"
   ]
  },
  {
   "attachments": {},
   "cell_type": "markdown",
   "metadata": {},
   "source": [
    "Finding the most common pipe diameters.\n",
    "Pipe diameter calculations to see common pipe diameters so that the robot can be the right size"
   ]
  },
  {
   "cell_type": "code",
   "execution_count": 120,
   "metadata": {
    "tags": []
   },
   "outputs": [
    {
     "name": "stderr",
     "output_type": "stream",
     "text": [
      "c:\\Users\\llipn\\anaconda3\\lib\\site-packages\\ipykernel_launcher.py:4: SettingWithCopyWarning: \n",
      "A value is trying to be set on a copy of a slice from a DataFrame.\n",
      "Try using .loc[row_indexer,col_indexer] = value instead\n",
      "\n",
      "See the caveats in the documentation: https://pandas.pydata.org/pandas-docs/stable/user_guide/indexing.html#returning-a-view-versus-a-copy\n",
      "  after removing the cwd from sys.path.\n"
     ]
    },
    {
     "data": {
      "text/plain": [
       "(array([33., 49., 50.,  1.,  3.,  0.,  0., 22.,  0.,  4.]),\n",
       " array([  0.,  90., 180., 270., 360., 450., 540., 630., 720., 810., 900.]),\n",
       " <a list of 10 Patch objects>)"
      ]
     },
     "execution_count": 120,
     "metadata": {},
     "output_type": "execute_result"
    },
    {
     "data": {
      "image/png": "[encoded data removed]",
      "text/plain": [
       "<Figure size 432x288 with 1 Axes>"
      ]
     },
     "metadata": {
      "needs_background": "light"
     },
     "output_type": "display_data"
    }
   ],
   "source": [
    "## create new df with only relevant columns\n",
    "pipe_diameters = data[[\"Diameter\",\"Units\", \"pipeType\"]]\n",
    "## convert from inches to mm where the unit column is inches\n",
    "pipe_diameters['PipeAllmm'] = np.where(pipe_diameters[\"Units\"] == 'In',pipe_diameters['Diameter']*25.4,pipe_diameters['Diameter'])\n",
    "## find max pipe diameter to create better graphs\n",
    "## outlier is a raw water main that transports water from source to treatment facility - can be ignored for this project\n",
    "max_pipe_diameter = pipe_diameters['PipeAllmm'].max()\n",
    "max_pipe_diameter_index = pipe_diameters['PipeAllmm'].idxmax()\n",
    "## remove raw water mains as these are of no interest to us - we are focused on post treatment distribution\n",
    "# pipe_diameters = pipe_diameters[pipe_diameters.pipeType != \"Raw Water Main\"] ##leave this in for now\n",
    "# max_pipe_diameter = pipe_diameters['PipeAllmm'].max()\n",
    "# max_pipe_diameter_index = pipe_diameters['PipeAllmm'].idxmax()\n",
    "#### Separate by pipe types - two main types trunk and distribution , others are washout, private, proposed, abandoned, raw\n",
    "\n",
    "distribution_diameters = pipe_diameters[pipe_diameters.pipeType == \"Distribution Main\"]\n",
    "trunk_diameters = pipe_diameters[pipe_diameters.pipeType == \"Trunk Main\"]\n",
    "raw_water_diameters = pipe_diameters[pipe_diameters.pipeType == \"Raw Water Main\"]\n",
    "washout_diameters = pipe_diameters[pipe_diameters.pipeType == \"Washout Main - Potab\"]\n",
    "private_diameters = pipe_diameters[pipe_diameters.pipeType == \"Private Main\"]\n",
    "proposed_diameters = pipe_diameters[pipe_diameters.pipeType == \"Proposed Main\"]\n",
    "abandoned_diameters = pipe_diameters[pipe_diameters.pipeType == \"Abandoned Main\"]\n",
    "\n",
    "## create histogram\n",
    "#comment all but one to see individually\n",
    "\n",
    "plt.hist(distribution_diameters['PipeAllmm'], bins=100)\n",
    "plt.hist(trunk_diameters['PipeAllmm'],color='black')\n",
    "plt.hist(washout_diameters['PipeAllmm'],color='green')\n",
    "plt.hist(private_diameters['PipeAllmm'], color ='red', bins = 100)\n",
    "plt.hist(proposed_diameters['PipeAllmm'], color='orange')\n",
    "plt.hist(abandoned_diameters['PipeAllmm'],color='grey', bins=100)\n",
    "plt.hist(raw_water_diameters['PipeAllmm'],color='pink')"
   ]
  },
  {
   "attachments": {},
   "cell_type": "markdown",
   "metadata": {},
   "source": [
    "Looking at pipe age and material"
   ]
  },
  {
   "cell_type": "code",
   "execution_count": 39,
   "metadata": {},
   "outputs": [
    {
     "name": "stderr",
     "output_type": "stream",
     "text": [
      "c:\\Users\\llipn\\anaconda3\\lib\\site-packages\\numpy\\lib\\histograms.py:839: RuntimeWarning: invalid value encountered in greater_equal\n",
      "  keep = (tmp_a >= first_edge)\n",
      "c:\\Users\\llipn\\anaconda3\\lib\\site-packages\\numpy\\lib\\histograms.py:840: RuntimeWarning: invalid value encountered in less_equal\n",
      "  keep &= (tmp_a <= last_edge)\n"
     ]
    },
    {
     "data": {
      "text/plain": [
       "(array([  7.,   1.,  83., 911., 890., 986., 172.,  62.,   1.,  62.]),\n",
       " array([ 18.80821918,  28.89013699,  38.97205479,  49.0539726 ,\n",
       "         59.13589041,  69.21780822,  79.29972603,  89.38164384,\n",
       "         99.46356164, 109.54547945, 119.62739726]),\n",
       " <a list of 10 Patch objects>)"
      ]
     },
     "execution_count": 39,
     "metadata": {},
     "output_type": "execute_result"
    },
    {
     "data": {
      "image/png": "[encoded data removed]",
      "text/plain": [
       "<Figure size 432x288 with 1 Axes>"
      ]
     },
     "metadata": {
      "needs_background": "light"
     },
     "output_type": "display_data"
    }
   ],
   "source": [
    "## create a new df with necessary columns\n",
    "\n",
    "pipe_material_age = data[[\"Material\", \"Age_of_Pipe\"]]\n",
    "\n",
    "## see unique materials and count their values\n",
    "\n",
    "# clearly iron is the main material with cast being the biggest and then \n",
    "# other forms of iron also accounting for another 8 or so percent\n",
    "# print(pipe_material_age[\"Material\"].unique())\n",
    "unique_material_counts = pipe_material_age[\"Material\"].value_counts(normalize=True)\n",
    "\n",
    "## Pipe age stuff\n",
    "\n",
    "\n",
    "plt.hist(pipe_material_age[\"Age_of_Pipe\"])\n",
    "\n",
    "# abandoned_diameters = pipe_diameters[pipe_diameters.pipeType == \"Abandoned Main\"]\n",
    "\n",
    "plt.hist(pipe_material_age[pipe_material_age.Material == 'Cast Iron'][\"Age_of_Pipe\"])\n",
    "plt.hist(pipe_material_age[pipe_material_age.Material == 'Polyethylene'][\"Age_of_Pipe\"])\n",
    "plt.hist(pipe_material_age[pipe_material_age.Material == 'PVC'][\"Age_of_Pipe\"],alpha=0.5)\n",
    "plt.hist(pipe_material_age[pipe_material_age.Material == 'Asbestos Cement'][\"Age_of_Pipe\"],alpha=0.7)\n",
    "plt.hist(pipe_material_age[pipe_material_age.Material == 'Ductile Iron'][\"Age_of_Pipe\"],alpha=0.7)\n",
    "plt.hist(pipe_material_age[pipe_material_age.Material == 'Protectaline'][\"Age_of_Pipe\"],alpha=1)\n",
    "plt.hist(pipe_material_age[pipe_material_age.Material == 'Spun Iron'][\"Age_of_Pipe\"],alpha=1)\n"
   ]
  },
  {
   "attachments": {},
   "cell_type": "markdown",
   "metadata": {},
   "source": [
    "Looking at leaks and where they are most likely to occur in terms of pipe diameters, ages, materials, type, etc etc\n",
    "\n",
    "- definitely have average leak flow\n",
    "- note on total leaks found and false positives - 40% FP according to Wessex Water\n",
    "\n"
   ]
  },
  {
   "cell_type": "code",
   "execution_count": 121,
   "metadata": {},
   "outputs": [
    {
     "name": "stdout",
     "output_type": "stream",
     "text": [
      "1.0850325203641604\n"
     ]
    },
    {
     "name": "stderr",
     "output_type": "stream",
     "text": [
      "c:\\Users\\llipn\\anaconda3\\lib\\site-packages\\numpy\\lib\\histograms.py:839: RuntimeWarning: invalid value encountered in greater_equal\n",
      "  keep = (tmp_a >= first_edge)\n",
      "c:\\Users\\llipn\\anaconda3\\lib\\site-packages\\numpy\\lib\\histograms.py:840: RuntimeWarning: invalid value encountered in less_equal\n",
      "  keep &= (tmp_a <= last_edge)\n"
     ]
    },
    {
     "data": {
      "image/png": "[encoded data removed]",
      "text/plain": [
       "<Figure size 432x288 with 1 Axes>"
      ]
     },
     "metadata": {
      "needs_background": "light"
     },
     "output_type": "display_data"
    }
   ],
   "source": [
    "### create df with necessary data for leaks - will grow\n",
    "\n",
    "leak_data = data[[\"Leakage Saving (m3/hr)\", \"Result\", \"Age_of_Pipe\", \"leakScore\", \"Type_of_PO\", \"dbMin\", \"pipeType\", \"Material\"]]\n",
    "## replace whitespace with nan\n",
    "leak_data = leak_data.replace(r'^\\s*$', np.nan, regex=True)\n",
    "\n",
    "## average leak loss \n",
    "# plt.hist(leak_data['Leakage Saving (m3/hr)'],bins=50)\n",
    "print(leak_data.loc[:, 'Leakage Saving (m3/hr)'].mean())\n",
    "leak_data.loc[:, 'Leakage Saving (m3/hr)'].std()\n",
    "\n",
    "## success rate of 60% with POI that leakage inspectors were sent to investigate\n",
    "unique_leak_investigation_results = leak_data[\"Result\"].value_counts(normalize=False)\n",
    "\n",
    "### leak score by pipe age\n",
    "### drop rows without POI's\n",
    "leak_data_only_POI = leak_data[leak_data['Type_of_PO'].notna()] #Result for ones that were investigated, Type_of_PO for ones that were only flagged\n",
    "# plt.scatter(leak_data_only_POI[\"Age_of_Pipe\"], leak_data_only_POI[\"leakScore\"])\n",
    "\n",
    "### ages of pipes where leaks were investigated/flagged\n",
    "plt.hist(leak_data_only_POI[\"Age_of_Pipe\"])\n",
    "type_pipe_where_leaks_were_investigated_flagged = leak_data_only_POI[\"Material\"].value_counts(normalize=True)\n",
    "\n"
   ]
  },
  {
   "cell_type": "code",
   "execution_count": 111,
   "metadata": {},
   "outputs": [],
   "source": [
    "##### Decision Tree/Random Forest - see what makes the most sense -> Flagged Y/N / Investigated Y/N / Leak Found Y/N\n",
    "\n",
    "flag_or_inv = \"Type_of_PO\"   ## Result or Type_of_PO\n",
    "\n",
    "#### Prepare dataset with necessary cols\n",
    "tree_df = data[[\"Diameter\",\"Units\", \"pipeType\",\"Material\", \"Age_of_Pipe\", flag_or_inv]] # Again Type_of_PO or Result or narrow further into Result\n",
    "## replace whitespace with nan\n",
    "tree_df = tree_df.replace(r'^\\s*$', np.nan, regex=True)\n",
    "## convert from inches to mm where the unit column is inches\n",
    "tree_df['PipeAllmm'] = np.where(tree_df[\"Units\"] == 'In',tree_df['Diameter']*25.4,tree_df['Diameter'])\n",
    "\n",
    "#### Dataset is very imbalanced (many more rows without POI's raised than without)\n",
    "#### Balance dataset by undersampling the negative cases (no POI's raised)\n",
    "# print(len(tree_df), \" rows in entire dataset\")\n",
    "num_flagged_rows = len(tree_df[tree_df[flag_or_inv].notna()])\n",
    "\n",
    "## all cases where something is flagged\n",
    "flag_pos = tree_df[tree_df[flag_or_inv].notna()]\n",
    "## cases where nothing is flagged (column value is NaN), downsample to number of flag \n",
    "flag_neg = tree_df[tree_df[flag_or_inv].isna()].sample(num_flagged_rows)\n",
    "\n",
    "## join sets back together\n",
    "flag_both = pd.concat((flag_pos, flag_neg))\n",
    "\n",
    "\n",
    "\n",
    "### fill nan so that we can compare against nan values\n",
    "flag_both[flag_or_inv] = flag_both[flag_or_inv].fillna('nan')\n",
    "### binarise from flag present or NaN value to 1 and 0 respectively\n",
    "flag_both[flag_or_inv+\"_binary\"] = (flag_both[flag_or_inv] != 'nan').astype(int)\n",
    "\n",
    "### binarise categorical variables\n",
    "flag_both = pd.get_dummies(flag_both, columns=['pipeType'])\n",
    "flag_both = pd.get_dummies(flag_both, columns=['Material'])\n",
    "\n",
    "### normalise continuous variables\n",
    "flag_both['Age_of_Pipe'] = (flag_both['Age_of_Pipe']-flag_both['Age_of_Pipe'].mean())/flag_both['Age_of_Pipe'].std()\n",
    "flag_both['PipeAllmm'] = (flag_both['PipeAllmm']-flag_both['PipeAllmm'].mean())/flag_both['PipeAllmm'].std()\n",
    "\n",
    "\n",
    "### remove unwanted columns - we have replaced diameter and units with PipeAllmm\n",
    "flag_both = flag_both.drop(columns=['Diameter', 'Units', flag_or_inv])\n",
    "\n",
    "flag_both = flag_both.dropna()\n",
    "\n"
   ]
  },
  {
   "cell_type": "code",
   "execution_count": 112,
   "metadata": {},
   "outputs": [],
   "source": [
    "### start with sklearn\n",
    "from sklearn.model_selection import train_test_split\n",
    "\n",
    "#split into train validate test, 0.5,0.25,0.25\n",
    "ttrain, other = train_test_split(flag_both, test_size=0.7, random_state=None)\n",
    "\n",
    "ttvalidation, ttest = train_test_split(other, test_size=0.5, random_state=None)\n",
    "\n",
    "\n",
    "#create the X and y by dropping or keeping columns\n",
    "X_train = ttrain.drop(columns=[flag_or_inv+\"_binary\"])\n",
    "y_train = ttrain[flag_or_inv+\"_binary\"]\n",
    "\n",
    "X_val = ttvalidation.drop(columns=[flag_or_inv+\"_binary\"])\n",
    "y_val = ttvalidation[flag_or_inv+\"_binary\"]\n",
    "\n",
    "X_test = ttest.drop(columns=[flag_or_inv+\"_binary\"])\n",
    "y_test = ttest[flag_or_inv+\"_binary\"]\n"
   ]
  },
  {
   "cell_type": "code",
   "execution_count": 113,
   "metadata": {},
   "outputs": [
    {
     "name": "stdout",
     "output_type": "stream",
     "text": [
      "Accuracy on the val set: 0.6089214380825566\n",
      "Accuracy on the val set: 0.6054593874833555\n",
      "Accuracy on the val set: 0.5009320905459388\n",
      "Accuracy on the test set: 0.6033288948069241\n",
      "Recall on the test set: 0.6286096256684492\n",
      "Precision on the test set: 0.5965490992133976\n"
     ]
    }
   ],
   "source": [
    "############ Decision Tree\n",
    "from sklearn.metrics import accuracy_score, precision_score, recall_score\n",
    "from sklearn import tree\n",
    "\n",
    "clf1 = tree.DecisionTreeClassifier(max_depth=2, min_impurity_decrease=0.0001)\n",
    "clf1.fit(X_train,y_train)\n",
    "print('Accuracy on the val set: {}'.format(accuracy_score(y_val, clf1.predict(X_val))))\n",
    "\n",
    "clf2 = tree.DecisionTreeClassifier(max_depth=3, min_impurity_decrease=0.01)\n",
    "clf2.fit(X_train,y_train)\n",
    "print('Accuracy on the val set: {}'.format(accuracy_score(y_val, clf2.predict(X_val))))\n",
    "\n",
    "clf3 = tree.DecisionTreeClassifier(max_depth=3, min_impurity_decrease=0.05)\n",
    "clf3.fit(X_train,y_train)\n",
    "print('Accuracy on the val set: {}'.format(accuracy_score(y_val, clf3.predict(X_val))))\n",
    "\n",
    "best_model = clf2\n",
    "print('Accuracy on the test set: {}'.format(accuracy_score(y_test, best_model.predict(X_test))))\n",
    "print('Recall on the test set: {}'.format(recall_score(y_test, best_model.predict(X_test))))\n",
    "print('Precision on the test set: {}'.format(precision_score(y_test, best_model.predict(X_test))))"
   ]
  },
  {
   "cell_type": "code",
   "execution_count": 118,
   "metadata": {},
   "outputs": [
    {
     "data": {
      "text/html": [
       "<div>\n",
       "<style scoped>\n",
       "    .dataframe tbody tr th:only-of-type {\n",
       "        vertical-align: middle;\n",
       "    }\n",
       "\n",
       "    .dataframe tbody tr th {\n",
       "        vertical-align: top;\n",
       "    }\n",
       "\n",
       "    .dataframe thead th {\n",
       "        text-align: right;\n",
       "    }\n",
       "</style>\n",
       "<table border=\"1\" class=\"dataframe\">\n",
       "  <thead>\n",
       "    <tr style=\"text-align: right;\">\n",
       "      <th></th>\n",
       "      <th>0</th>\n",
       "    </tr>\n",
       "  </thead>\n",
       "  <tbody>\n",
       "    <tr>\n",
       "      <th>Age_of_Pipe</th>\n",
       "      <td>0.839161</td>\n",
       "    </tr>\n",
       "    <tr>\n",
       "      <th>Material_Cast Iron</th>\n",
       "      <td>0.115414</td>\n",
       "    </tr>\n",
       "    <tr>\n",
       "      <th>pipeType_Distribution Main</th>\n",
       "      <td>0.045425</td>\n",
       "    </tr>\n",
       "    <tr>\n",
       "      <th>Material_Grey Iron</th>\n",
       "      <td>0.000000</td>\n",
       "    </tr>\n",
       "    <tr>\n",
       "      <th>Material_Steel</th>\n",
       "      <td>0.000000</td>\n",
       "    </tr>\n",
       "    <tr>\n",
       "      <th>Material_Stainless Steel</th>\n",
       "      <td>0.000000</td>\n",
       "    </tr>\n",
       "    <tr>\n",
       "      <th>Material_Spun Iron</th>\n",
       "      <td>0.000000</td>\n",
       "    </tr>\n",
       "    <tr>\n",
       "      <th>Material_Protectaline</th>\n",
       "      <td>0.000000</td>\n",
       "    </tr>\n",
       "    <tr>\n",
       "      <th>Material_Polyethylene</th>\n",
       "      <td>0.000000</td>\n",
       "    </tr>\n",
       "    <tr>\n",
       "      <th>Material_Plastic/Polythene</th>\n",
       "      <td>0.000000</td>\n",
       "    </tr>\n",
       "    <tr>\n",
       "      <th>Material_PVC</th>\n",
       "      <td>0.000000</td>\n",
       "    </tr>\n",
       "    <tr>\n",
       "      <th>Material_Lead</th>\n",
       "      <td>0.000000</td>\n",
       "    </tr>\n",
       "    <tr>\n",
       "      <th>Material_Hepworth 30</th>\n",
       "      <td>0.000000</td>\n",
       "    </tr>\n",
       "    <tr>\n",
       "      <th>Material_Galvernised Iron</th>\n",
       "      <td>0.000000</td>\n",
       "    </tr>\n",
       "    <tr>\n",
       "      <th>Material_Glass Reinforced Plastic</th>\n",
       "      <td>0.000000</td>\n",
       "    </tr>\n",
       "    <tr>\n",
       "      <th>PipeAllmm</th>\n",
       "      <td>0.000000</td>\n",
       "    </tr>\n",
       "    <tr>\n",
       "      <th>Material_Ductile Iron</th>\n",
       "      <td>0.000000</td>\n",
       "    </tr>\n",
       "    <tr>\n",
       "      <th>Material_Asbestos Cement</th>\n",
       "      <td>0.000000</td>\n",
       "    </tr>\n",
       "    <tr>\n",
       "      <th>pipeType_Washout Main - Potab</th>\n",
       "      <td>0.000000</td>\n",
       "    </tr>\n",
       "    <tr>\n",
       "      <th>pipeType_Trunk Main</th>\n",
       "      <td>0.000000</td>\n",
       "    </tr>\n",
       "    <tr>\n",
       "      <th>pipeType_Raw Water Main</th>\n",
       "      <td>0.000000</td>\n",
       "    </tr>\n",
       "    <tr>\n",
       "      <th>pipeType_Proposed Main</th>\n",
       "      <td>0.000000</td>\n",
       "    </tr>\n",
       "    <tr>\n",
       "      <th>pipeType_Private Main</th>\n",
       "      <td>0.000000</td>\n",
       "    </tr>\n",
       "    <tr>\n",
       "      <th>pipeType_Abandoned Main</th>\n",
       "      <td>0.000000</td>\n",
       "    </tr>\n",
       "    <tr>\n",
       "      <th>Material_Unknown</th>\n",
       "      <td>0.000000</td>\n",
       "    </tr>\n",
       "  </tbody>\n",
       "</table>\n",
       "</div>"
      ],
      "text/plain": [
       "                                          0\n",
       "Age_of_Pipe                        0.839161\n",
       "Material_Cast Iron                 0.115414\n",
       "pipeType_Distribution Main         0.045425\n",
       "Material_Grey Iron                 0.000000\n",
       "Material_Steel                     0.000000\n",
       "Material_Stainless Steel           0.000000\n",
       "Material_Spun Iron                 0.000000\n",
       "Material_Protectaline              0.000000\n",
       "Material_Polyethylene              0.000000\n",
       "Material_Plastic/Polythene         0.000000\n",
       "Material_PVC                       0.000000\n",
       "Material_Lead                      0.000000\n",
       "Material_Hepworth 30               0.000000\n",
       "Material_Galvernised Iron          0.000000\n",
       "Material_Glass Reinforced Plastic  0.000000\n",
       "PipeAllmm                          0.000000\n",
       "Material_Ductile Iron              0.000000\n",
       "Material_Asbestos Cement           0.000000\n",
       "pipeType_Washout Main - Potab      0.000000\n",
       "pipeType_Trunk Main                0.000000\n",
       "pipeType_Raw Water Main            0.000000\n",
       "pipeType_Proposed Main             0.000000\n",
       "pipeType_Private Main              0.000000\n",
       "pipeType_Abandoned Main            0.000000\n",
       "Material_Unknown                   0.000000"
      ]
     },
     "execution_count": 118,
     "metadata": {},
     "output_type": "execute_result"
    }
   ],
   "source": [
    "####### Looking at feature importance\n",
    "feature_importance = pd.DataFrame(clf1.feature_importances_, index=X_train.columns).sort_values(0,ascending=False)\n",
    "feature_importance"
   ]
  },
  {
   "cell_type": "code",
   "execution_count": 115,
   "metadata": {},
   "outputs": [
    {
     "name": "stdout",
     "output_type": "stream",
     "text": [
      "0.6087882822902796\n"
     ]
    }
   ],
   "source": [
    "from sklearn.ensemble import RandomForestClassifier\n",
    "model = RandomForestClassifier(max_depth=4, min_samples_split=4)\n",
    "model = model.fit(X_train, y_train)\n",
    "ypred = model.predict(X_val)\n",
    "acc = accuracy_score(y_val, ypred)\n",
    "print(acc)"
   ]
  },
  {
   "cell_type": "code",
   "execution_count": 117,
   "metadata": {},
   "outputs": [
    {
     "data": {
      "image/svg+xml": "<?xml version=\"1.0\" encoding=\"UTF-8\" standalone=\"no\"?>\n<!DOCTYPE svg PUBLIC \"-//W3C//DTD SVG 1.1//EN\"\n \"http://www.w3.org/Graphics/SVG/1.1/DTD/svg11.dtd\">\n<!-- Generated by graphviz version 4.0.0 (20220529.0937)\n -->\n<!-- Title: Tree Pages: 1 -->\n<svg width=\"627pt\" height=\"314pt\"\n viewBox=\"0.00 0.00 627.00 314.00\" xmlns=\"http://www.w3.org/2000/svg\" xmlns:xlink=\"http://www.w3.org/1999/xlink\">\n<g id=\"graph0\" class=\"graph\" transform=\"scale(1 1) rotate(0) translate(4 310)\">\n<title>Tree</title>\n<polygon fill=\"white\" stroke=\"transparent\" points=\"-4,4 -4,-310 623,-310 623,4 -4,4\"/>\n<!-- 0 -->\n<g id=\"node1\" class=\"node\">\n<title>0</title>\n<path fill=\"#fefaf7\" stroke=\"black\" d=\"M376,-306C376,-306 242,-306 242,-306 236,-306 230,-300 230,-294 230,-294 230,-235 230,-235 230,-229 236,-223 242,-223 242,-223 376,-223 376,-223 382,-223 388,-229 388,-235 388,-235 388,-294 388,-294 388,-300 382,-306 376,-306\"/>\n<text text-anchor=\"start\" x=\"238\" y=\"-290.8\" font-family=\"Helvetica,sans-Serif\" font-size=\"14.00\">Age_of_Pipe ≤ &#45;0.112</text>\n<text text-anchor=\"start\" x=\"280\" y=\"-275.8\" font-family=\"Helvetica,sans-Serif\" font-size=\"14.00\">gini = 0.5</text>\n<text text-anchor=\"start\" x=\"257.5\" y=\"-260.8\" font-family=\"Helvetica,sans-Serif\" font-size=\"14.00\">samples = 6437</text>\n<text text-anchor=\"start\" x=\"244\" y=\"-245.8\" font-family=\"Helvetica,sans-Serif\" font-size=\"14.00\">value = [3285, 3152]</text>\n<text text-anchor=\"start\" x=\"260.5\" y=\"-230.8\" font-family=\"Helvetica,sans-Serif\" font-size=\"14.00\">class = No POI</text>\n</g>\n<!-- 1 -->\n<g id=\"node2\" class=\"node\">\n<title>1</title>\n<path fill=\"#f5cfb3\" stroke=\"black\" d=\"M273.5,-187C273.5,-187 130.5,-187 130.5,-187 124.5,-187 118.5,-181 118.5,-175 118.5,-175 118.5,-116 118.5,-116 118.5,-110 124.5,-104 130.5,-104 130.5,-104 273.5,-104 273.5,-104 279.5,-104 285.5,-110 285.5,-116 285.5,-116 285.5,-175 285.5,-175 285.5,-181 279.5,-187 273.5,-187\"/>\n<text text-anchor=\"start\" x=\"126.5\" y=\"-171.8\" font-family=\"Helvetica,sans-Serif\" font-size=\"14.00\">Material_Cast Iron ≤ 0.5</text>\n<text text-anchor=\"start\" x=\"164.5\" y=\"-156.8\" font-family=\"Helvetica,sans-Serif\" font-size=\"14.00\">gini = 0.472</text>\n<text text-anchor=\"start\" x=\"150.5\" y=\"-141.8\" font-family=\"Helvetica,sans-Serif\" font-size=\"14.00\">samples = 3029</text>\n<text text-anchor=\"start\" x=\"137\" y=\"-126.8\" font-family=\"Helvetica,sans-Serif\" font-size=\"14.00\">value = [1873, 1156]</text>\n<text text-anchor=\"start\" x=\"153.5\" y=\"-111.8\" font-family=\"Helvetica,sans-Serif\" font-size=\"14.00\">class = No POI</text>\n</g>\n<!-- 0&#45;&gt;1 -->\n<g id=\"edge1\" class=\"edge\">\n<title>0&#45;&gt;1</title>\n<path fill=\"none\" stroke=\"black\" d=\"M271.88,-222.91C263.49,-213.74 254.52,-203.93 245.89,-194.49\"/>\n<polygon fill=\"black\" stroke=\"black\" points=\"248.39,-192.04 239.06,-187.02 243.22,-196.76 248.39,-192.04\"/>\n<text text-anchor=\"middle\" x=\"237.94\" y=\"-208.3\" font-family=\"Helvetica,sans-Serif\" font-size=\"14.00\">True</text>\n</g>\n<!-- 4 -->\n<g id=\"node5\" class=\"node\">\n<title>4</title>\n<path fill=\"#c5e2f7\" stroke=\"black\" d=\"M516,-187C516,-187 316,-187 316,-187 310,-187 304,-181 304,-175 304,-175 304,-116 304,-116 304,-110 310,-104 316,-104 316,-104 516,-104 516,-104 522,-104 528,-110 528,-116 528,-116 528,-175 528,-175 528,-181 522,-187 516,-187\"/>\n<text text-anchor=\"start\" x=\"312\" y=\"-171.8\" font-family=\"Helvetica,sans-Serif\" font-size=\"14.00\">pipeType_Distribution Main ≤ 0.5</text>\n<text text-anchor=\"start\" x=\"378.5\" y=\"-156.8\" font-family=\"Helvetica,sans-Serif\" font-size=\"14.00\">gini = 0.485</text>\n<text text-anchor=\"start\" x=\"364.5\" y=\"-141.8\" font-family=\"Helvetica,sans-Serif\" font-size=\"14.00\">samples = 3408</text>\n<text text-anchor=\"start\" x=\"351\" y=\"-126.8\" font-family=\"Helvetica,sans-Serif\" font-size=\"14.00\">value = [1412, 1996]</text>\n<text text-anchor=\"start\" x=\"378.5\" y=\"-111.8\" font-family=\"Helvetica,sans-Serif\" font-size=\"14.00\">class = POI</text>\n</g>\n<!-- 0&#45;&gt;4 -->\n<g id=\"edge4\" class=\"edge\">\n<title>0&#45;&gt;4</title>\n<path fill=\"none\" stroke=\"black\" d=\"M346.12,-222.91C354.51,-213.74 363.48,-203.93 372.11,-194.49\"/>\n<polygon fill=\"black\" stroke=\"black\" points=\"374.78,-196.76 378.94,-187.02 369.61,-192.04 374.78,-196.76\"/>\n<text text-anchor=\"middle\" x=\"380.06\" y=\"-208.3\" font-family=\"Helvetica,sans-Serif\" font-size=\"14.00\">False</text>\n</g>\n<!-- 2 -->\n<g id=\"node3\" class=\"node\">\n<title>2</title>\n<path fill=\"#f4c9aa\" stroke=\"black\" d=\"M126,-68C126,-68 12,-68 12,-68 6,-68 0,-62 0,-56 0,-56 0,-12 0,-12 0,-6 6,0 12,0 12,0 126,0 126,0 132,0 138,-6 138,-12 138,-12 138,-56 138,-56 138,-62 132,-68 126,-68\"/>\n<text text-anchor=\"start\" x=\"31.5\" y=\"-52.8\" font-family=\"Helvetica,sans-Serif\" font-size=\"14.00\">gini = 0.463</text>\n<text text-anchor=\"start\" x=\"17.5\" y=\"-37.8\" font-family=\"Helvetica,sans-Serif\" font-size=\"14.00\">samples = 2745</text>\n<text text-anchor=\"start\" x=\"8\" y=\"-22.8\" font-family=\"Helvetica,sans-Serif\" font-size=\"14.00\">value = [1746, 999]</text>\n<text text-anchor=\"start\" x=\"20.5\" y=\"-7.8\" font-family=\"Helvetica,sans-Serif\" font-size=\"14.00\">class = No POI</text>\n</g>\n<!-- 1&#45;&gt;2 -->\n<g id=\"edge2\" class=\"edge\">\n<title>1&#45;&gt;2</title>\n<path fill=\"none\" stroke=\"black\" d=\"M152.48,-103.73C140.95,-94.24 128.7,-84.16 117.24,-74.72\"/>\n<polygon fill=\"black\" stroke=\"black\" points=\"119.39,-71.95 109.45,-68.3 114.94,-77.36 119.39,-71.95\"/>\n</g>\n<!-- 3 -->\n<g id=\"node4\" class=\"node\">\n<title>3</title>\n<path fill=\"#d9ecfa\" stroke=\"black\" d=\"M274,-68C274,-68 168,-68 168,-68 162,-68 156,-62 156,-56 156,-56 156,-12 156,-12 156,-6 162,0 168,0 168,0 274,0 274,0 280,0 286,-6 286,-12 286,-12 286,-56 286,-56 286,-62 280,-68 274,-68\"/>\n<text text-anchor=\"start\" x=\"183.5\" y=\"-52.8\" font-family=\"Helvetica,sans-Serif\" font-size=\"14.00\">gini = 0.494</text>\n<text text-anchor=\"start\" x=\"173.5\" y=\"-37.8\" font-family=\"Helvetica,sans-Serif\" font-size=\"14.00\">samples = 284</text>\n<text text-anchor=\"start\" x=\"164\" y=\"-22.8\" font-family=\"Helvetica,sans-Serif\" font-size=\"14.00\">value = [127, 157]</text>\n<text text-anchor=\"start\" x=\"183.5\" y=\"-7.8\" font-family=\"Helvetica,sans-Serif\" font-size=\"14.00\">class = POI</text>\n</g>\n<!-- 1&#45;&gt;3 -->\n<g id=\"edge3\" class=\"edge\">\n<title>1&#45;&gt;3</title>\n<path fill=\"none\" stroke=\"black\" d=\"M209.07,-103.73C210.52,-95.43 212.03,-86.67 213.49,-78.28\"/>\n<polygon fill=\"black\" stroke=\"black\" points=\"216.96,-78.75 215.22,-68.3 210.06,-77.55 216.96,-78.75\"/>\n</g>\n<!-- 5 -->\n<g id=\"node6\" class=\"node\">\n<title>5</title>\n<path fill=\"#fae6d8\" stroke=\"black\" d=\"M442.5,-68C442.5,-68 353.5,-68 353.5,-68 347.5,-68 341.5,-62 341.5,-56 341.5,-56 341.5,-12 341.5,-12 341.5,-6 347.5,0 353.5,0 353.5,0 442.5,0 442.5,0 448.5,0 454.5,-6 454.5,-12 454.5,-12 454.5,-56 454.5,-56 454.5,-62 448.5,-68 442.5,-68\"/>\n<text text-anchor=\"start\" x=\"360.5\" y=\"-52.8\" font-family=\"Helvetica,sans-Serif\" font-size=\"14.00\">gini = 0.494</text>\n<text text-anchor=\"start\" x=\"350.5\" y=\"-37.8\" font-family=\"Helvetica,sans-Serif\" font-size=\"14.00\">samples = 175</text>\n<text text-anchor=\"start\" x=\"349.5\" y=\"-22.8\" font-family=\"Helvetica,sans-Serif\" font-size=\"14.00\">value = [97, 78]</text>\n<text text-anchor=\"start\" x=\"349.5\" y=\"-7.8\" font-family=\"Helvetica,sans-Serif\" font-size=\"14.00\">class = No POI</text>\n</g>\n<!-- 4&#45;&gt;5 -->\n<g id=\"edge5\" class=\"edge\">\n<title>4&#45;&gt;5</title>\n<path fill=\"none\" stroke=\"black\" d=\"M409.3,-103.73C407.93,-95.43 406.49,-86.67 405.12,-78.28\"/>\n<polygon fill=\"black\" stroke=\"black\" points=\"408.55,-77.6 403.47,-68.3 401.64,-78.73 408.55,-77.6\"/>\n</g>\n<!-- 6 -->\n<g id=\"node7\" class=\"node\">\n<title>6</title>\n<path fill=\"#c1e0f7\" stroke=\"black\" d=\"M607,-68C607,-68 485,-68 485,-68 479,-68 473,-62 473,-56 473,-56 473,-12 473,-12 473,-6 479,0 485,0 485,0 607,0 607,0 613,0 619,-6 619,-12 619,-12 619,-56 619,-56 619,-62 613,-68 607,-68\"/>\n<text text-anchor=\"start\" x=\"508.5\" y=\"-52.8\" font-family=\"Helvetica,sans-Serif\" font-size=\"14.00\">gini = 0.483</text>\n<text text-anchor=\"start\" x=\"494.5\" y=\"-37.8\" font-family=\"Helvetica,sans-Serif\" font-size=\"14.00\">samples = 3233</text>\n<text text-anchor=\"start\" x=\"481\" y=\"-22.8\" font-family=\"Helvetica,sans-Serif\" font-size=\"14.00\">value = [1315, 1918]</text>\n<text text-anchor=\"start\" x=\"508.5\" y=\"-7.8\" font-family=\"Helvetica,sans-Serif\" font-size=\"14.00\">class = POI</text>\n</g>\n<!-- 4&#45;&gt;6 -->\n<g id=\"edge6\" class=\"edge\">\n<title>4&#45;&gt;6</title>\n<path fill=\"none\" stroke=\"black\" d=\"M464.41,-103.73C475.56,-94.33 487.41,-84.35 498.53,-74.99\"/>\n<polygon fill=\"black\" stroke=\"black\" points=\"501.07,-77.42 506.47,-68.3 496.56,-72.06 501.07,-77.42\"/>\n</g>\n</g>\n</svg>\n",
      "text/plain": [
       "<graphviz.sources.Source at 0x1eeb5890f48>"
      ]
     },
     "execution_count": 117,
     "metadata": {},
     "output_type": "execute_result"
    }
   ],
   "source": [
    "######## Visualise the decision tree/random forest\n",
    "\n",
    "import sklearn.tree as tree\n",
    "import graphviz\n",
    "dot_data = tree.export_graphviz(clf1, out_file=None) \n",
    "graph = graphviz.Source(dot_data) \n",
    "\n",
    "predictors = X_train.columns\n",
    "dot_data = tree.export_graphviz(clf1, out_file=None,\n",
    "                                feature_names = predictors,\n",
    "                                class_names = ('No POI', 'POI'),\n",
    "                                filled = True, rounded = True,\n",
    "                                special_characters = True)\n",
    "graph = graphviz.Source(dot_data)  \n",
    "graph "
   ]
  }
 ],
 "metadata": {
  "kernelspec": {
   "display_name": "base",
   "language": "python",
   "name": "python3"
  },
  "language_info": {
   "codemirror_mode": {
    "name": "ipython",
    "version": 3
   },
   "file_extension": ".py",
   "mimetype": "text/x-python",
   "name": "python",
   "nbconvert_exporter": "python",
   "pygments_lexer": "ipython3",
   "version": "3.7.6"
  },
  "orig_nbformat": 4,
  "vscode": {
   "interpreter": {
    "hash": "a4b3faf0eb33af920f6f634719609d166997373252cc50ebbc92e4bd8976e71c"
   }
  }
 },
 "nbformat": 4,
 "nbformat_minor": 2
}
