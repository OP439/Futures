{
 "cells": [
  {
   "cell_type": "code",
   "execution_count": 1,
   "metadata": {},
   "outputs": [],
   "source": [
    "import pandas as pd\n",
    "import numpy as np\n",
    "import matplotlib.pyplot as plt"
   ]
  },
  {
   "cell_type": "code",
   "execution_count": 2,
   "metadata": {},
   "outputs": [],
   "source": [
    "data = pd.read_excel('full-data-acoustic-logger-leakage-challenge-january-update.xlsx', engine='openpyxl')"
   ]
  },
  {
   "attachments": {},
   "cell_type": "markdown",
   "metadata": {},
   "source": [
    "Finding the most common pipe diameters.\n",
    "Pipe diameter calculations to see common pipe diameters so that the robot can be the right size"
   ]
  },
  {
   "cell_type": "code",
   "execution_count": 3,
   "metadata": {
    "tags": []
   },
   "outputs": [
    {
     "name": "stderr",
     "output_type": "stream",
     "text": [
      "<ipython-input-3-b26f5b3e4f66>:4: SettingWithCopyWarning: \n",
      "A value is trying to be set on a copy of a slice from a DataFrame.\n",
      "Try using .loc[row_indexer,col_indexer] = value instead\n",
      "\n",
      "See the caveats in the documentation: https://pandas.pydata.org/pandas-docs/stable/user_guide/indexing.html#returning-a-view-versus-a-copy\n",
      "  pipe_diameters['PipeAllmm'] = np.where(pipe_diameters[\"Units\"] == 'In',pipe_diameters['Diameter']*25.4,pipe_diameters['Diameter'])\n"
     ]
    },
    {
     "data": {
      "text/plain": [
       "(array([2.6200e+02, 0.0000e+00, 0.0000e+00, 0.0000e+00, 4.5500e+02,\n",
       "        4.8000e+01, 4.0000e+00, 0.0000e+00, 3.5190e+03, 0.0000e+00,\n",
       "        1.0549e+04, 0.0000e+00, 5.1401e+04, 1.0250e+03, 0.0000e+00,\n",
       "        2.3397e+04, 7.5394e+04, 0.0000e+00, 4.2700e+02, 0.0000e+00,\n",
       "        1.3432e+04, 2.9400e+03, 0.0000e+00, 0.0000e+00, 0.0000e+00,\n",
       "        2.2086e+04, 6.0000e+02, 0.0000e+00, 0.0000e+00, 6.7400e+02,\n",
       "        5.6920e+03, 0.0000e+00, 0.0000e+00, 3.0490e+03, 0.0000e+00,\n",
       "        0.0000e+00, 0.0000e+00, 2.0000e+00, 1.0460e+03, 0.0000e+00,\n",
       "        0.0000e+00, 7.6500e+02, 6.5200e+02, 0.0000e+00, 0.0000e+00,\n",
       "        0.0000e+00, 0.0000e+00, 0.0000e+00, 0.0000e+00, 0.0000e+00,\n",
       "        6.3900e+02, 0.0000e+00, 4.9000e+01, 0.0000e+00, 0.0000e+00,\n",
       "        0.0000e+00, 0.0000e+00, 0.0000e+00, 4.4000e+01, 3.7000e+01,\n",
       "        0.0000e+00, 0.0000e+00, 0.0000e+00, 5.0000e+01, 0.0000e+00,\n",
       "        0.0000e+00, 3.8000e+01, 2.0000e+00, 0.0000e+00, 0.0000e+00,\n",
       "        0.0000e+00, 0.0000e+00, 0.0000e+00, 0.0000e+00, 0.0000e+00,\n",
       "        4.9000e+01, 3.0000e+00, 0.0000e+00, 0.0000e+00, 0.0000e+00,\n",
       "        0.0000e+00, 0.0000e+00, 0.0000e+00, 1.8000e+01, 0.0000e+00,\n",
       "        0.0000e+00, 0.0000e+00, 0.0000e+00, 0.0000e+00, 0.0000e+00,\n",
       "        0.0000e+00, 0.0000e+00, 0.0000e+00, 0.0000e+00, 0.0000e+00,\n",
       "        0.0000e+00, 0.0000e+00, 0.0000e+00, 0.0000e+00, 6.0000e+00]),\n",
       " array([  0.,   6.,  12.,  18.,  24.,  30.,  36.,  42.,  48.,  54.,  60.,\n",
       "         66.,  72.,  78.,  84.,  90.,  96., 102., 108., 114., 120., 126.,\n",
       "        132., 138., 144., 150., 156., 162., 168., 174., 180., 186., 192.,\n",
       "        198., 204., 210., 216., 222., 228., 234., 240., 246., 252., 258.,\n",
       "        264., 270., 276., 282., 288., 294., 300., 306., 312., 318., 324.,\n",
       "        330., 336., 342., 348., 354., 360., 366., 372., 378., 384., 390.,\n",
       "        396., 402., 408., 414., 420., 426., 432., 438., 444., 450., 456.,\n",
       "        462., 468., 474., 480., 486., 492., 498., 504., 510., 516., 522.,\n",
       "        528., 534., 540., 546., 552., 558., 564., 570., 576., 582., 588.,\n",
       "        594., 600.]),\n",
       " <a list of 100 Patch objects>)"
      ]
     },
     "execution_count": 3,
     "metadata": {},
     "output_type": "execute_result"
    },
    {
     "data": {
      "image/png": "[encoded data removed]",
      "text/plain": [
       "<Figure size 432x288 with 1 Axes>"
      ]
     },
     "metadata": {
      "needs_background": "light"
     },
     "output_type": "display_data"
    }
   ],
   "source": [
    "## create new df with only relevant columns\n",
    "pipe_diameters = data[[\"Diameter\",\"Units\", \"pipeType\"]]\n",
    "## convert from inches to mm where the unit column is inches\n",
    "pipe_diameters['PipeAllmm'] = np.where(pipe_diameters[\"Units\"] == 'In',pipe_diameters['Diameter']*25.4,pipe_diameters['Diameter'])\n",
    "## find max pipe diameter to create better graphs\n",
    "## outlier is a raw water main that transports water from source to treatment facility - can be ignored for this project\n",
    "max_pipe_diameter = pipe_diameters['PipeAllmm'].max()\n",
    "max_pipe_diameter_index = pipe_diameters['PipeAllmm'].idxmax()\n",
    "## remove raw water mains as these are of no interest to us - we are focused on post treatment distribution\n",
    "# pipe_diameters = pipe_diameters[pipe_diameters.pipeType != \"Raw Water Main\"] ##leave this in for now\n",
    "# max_pipe_diameter = pipe_diameters['PipeAllmm'].max()\n",
    "# max_pipe_diameter_index = pipe_diameters['PipeAllmm'].idxmax()\n",
    "#### Separate by pipe types - two main types trunk and distribution , others are washout, private, proposed, abandoned, raw\n",
    "\n",
    "distribution_diameters = pipe_diameters[pipe_diameters.pipeType == \"Distribution Main\"]\n",
    "trunk_diameters = pipe_diameters[pipe_diameters.pipeType == \"Trunk Main\"]\n",
    "raw_water_diameters = pipe_diameters[pipe_diameters.pipeType == \"Raw Water Main\"]\n",
    "washout_diameters = pipe_diameters[pipe_diameters.pipeType == \"Washout Main - Potab\"]\n",
    "private_diameters = pipe_diameters[pipe_diameters.pipeType == \"Private Main\"]\n",
    "proposed_diameters = pipe_diameters[pipe_diameters.pipeType == \"Proposed Main\"]\n",
    "abandoned_diameters = pipe_diameters[pipe_diameters.pipeType == \"Abandoned Main\"]\n",
    "\n",
    "## create histogram\n",
    "#comment all but one to see individually\n",
    "\n",
    "plt.hist(distribution_diameters['PipeAllmm'], bins=100)\n",
    "# plt.hist(trunk_diameters['PipeAllmm'],color='black')\n",
    "# plt.hist(washout_diameters['PipeAllmm'],color='green')\n",
    "# plt.hist(private_diameters['PipeAllmm'], color ='red', bins = 100)\n",
    "# plt.hist(proposed_diameters['PipeAllmm'], color='orange')\n",
    "# plt.hist(abandoned_diameters['PipeAllmm'],color='grey')\n",
    "# plt.hist(raw_water_diameters['PipeAllmm'],color='pink')"
   ]
  },
  {
   "attachments": {},
   "cell_type": "markdown",
   "metadata": {},
   "source": [
    "Looking at pipe age and material"
   ]
  },
  {
   "cell_type": "code",
   "execution_count": 8,
   "metadata": {},
   "outputs": [
    {
     "name": "stderr",
     "output_type": "stream",
     "text": [
      "c:\\Python38\\lib\\site-packages\\numpy\\lib\\histograms.py:839: RuntimeWarning: invalid value encountered in greater_equal\n",
      "  keep = (tmp_a >= first_edge)\n",
      "c:\\Python38\\lib\\site-packages\\numpy\\lib\\histograms.py:840: RuntimeWarning: invalid value encountered in less_equal\n",
      "  keep &= (tmp_a <= last_edge)\n"
     ]
    },
    {
     "data": {
      "text/plain": [
       "(array([1.1173e+04, 2.5616e+04, 1.2758e+04, 7.8000e+01, 8.3000e+01,\n",
       "        8.5000e+01, 1.7000e+01, 2.6000e+01, 6.0000e+00, 6.0000e+00]),\n",
       " array([  0.18356164,  12.12794521,  24.07232877,  36.01671233,\n",
       "         47.96109589,  59.90547945,  71.84986301,  83.79424658,\n",
       "         95.73863014, 107.6830137 , 119.62739726]),\n",
       " <a list of 10 Patch objects>)"
      ]
     },
     "execution_count": 8,
     "metadata": {},
     "output_type": "execute_result"
    },
    {
     "data": {
      "image/png": "[encoded data removed]",
      "text/plain": [
       "<Figure size 432x288 with 1 Axes>"
      ]
     },
     "metadata": {
      "needs_background": "light"
     },
     "output_type": "display_data"
    }
   ],
   "source": [
    "## create a new df with necessary columns\n",
    "\n",
    "pipe_material_age = data[[\"Material\", \"Age_of_Pipe\"]]\n",
    "\n",
    "## see unique materials and count their values\n",
    "\n",
    "# clearly iron is the main material with cast being the biggest and then \n",
    "# other forms of iron also accounting for another 8 or so percent\n",
    "# print(pipe_material_age[\"Material\"].unique())\n",
    "unique_material_counts = pipe_material_age[\"Material\"].value_counts(normalize=True)\n",
    "\n",
    "## Pipe age stuff\n",
    "\n",
    "\n",
    "plt.hist(pipe_material_age[\"Age_of_Pipe\"])\n",
    "\n",
    "# abandoned_diameters = pipe_diameters[pipe_diameters.pipeType == \"Abandoned Main\"]\n",
    "\n",
    "plt.hist(pipe_material_age[pipe_material_age.Material == 'Cast Iron'][\"Age_of_Pipe\"])\n",
    "plt.hist(pipe_material_age[pipe_material_age.Material == 'Polyethylene'][\"Age_of_Pipe\"])\n"
   ]
  }
 ],
 "metadata": {
  "kernelspec": {
   "display_name": "Python 3",
   "language": "python",
   "name": "python3"
  },
  "language_info": {
   "codemirror_mode": {
    "name": "ipython",
    "version": 3
   },
   "file_extension": ".py",
   "mimetype": "text/x-python",
   "name": "python",
   "nbconvert_exporter": "python",
   "pygments_lexer": "ipython3",
   "version": "3.8.2"
  },
  "orig_nbformat": 4,
  "vscode": {
   "interpreter": {
    "hash": "9650cb4e16cdd4a8e8e2d128bf38d875813998db22a3c986335f89e0cb4d7bb2"
   }
  }
 },
 "nbformat": 4,
 "nbformat_minor": 2
}
