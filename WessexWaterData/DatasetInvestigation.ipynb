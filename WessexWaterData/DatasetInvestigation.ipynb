{
 "cells": [
  {
   "cell_type": "code",
   "execution_count": 1,
   "metadata": {},
   "outputs": [],
   "source": [
    "import pandas as pd\n",
    "import numpy as np\n",
    "import matplotlib.pyplot as plt"
   ]
  },
  {
   "cell_type": "code",
   "execution_count": 2,
   "metadata": {},
   "outputs": [],
   "source": [
    "data = pd.read_excel('full-data-acoustic-logger-leakage-challenge-january-update.xlsx', engine='openpyxl')"
   ]
  },
  {
   "attachments": {},
   "cell_type": "markdown",
   "metadata": {},
   "source": [
    "Finding the most common pipe diameters.\n",
    "Pipe diameter calculations to see common pipe diameters so that the robot can be the right size"
   ]
  },
  {
   "cell_type": "code",
   "execution_count": 15,
   "metadata": {
    "tags": []
   },
   "outputs": [
    {
     "name": "stderr",
     "output_type": "stream",
     "text": [
      "<ipython-input-15-7bd9d00e7bf3>:4: SettingWithCopyWarning: \n",
      "A value is trying to be set on a copy of a slice from a DataFrame.\n",
      "Try using .loc[row_indexer,col_indexer] = value instead\n",
      "\n",
      "See the caveats in the documentation: https://pandas.pydata.org/pandas-docs/stable/user_guide/indexing.html#returning-a-view-versus-a-copy\n",
      "  pipe_diameters['PipeAllmm'] = np.where(pipe_diameters[\"Units\"] == 'In',pipe_diameters['Diameter']*25.4,pipe_diameters['Diameter'])\n"
     ]
    },
    {
     "data": {
      "text/plain": [
       "(0.0, 300.0)"
      ]
     },
     "execution_count": 15,
     "metadata": {},
     "output_type": "execute_result"
    },
    {
     "data": {
      "image/png": "[encoded data removed]",
      "text/plain": [
       "<Figure size 432x288 with 1 Axes>"
      ]
     },
     "metadata": {
      "needs_background": "light"
     },
     "output_type": "display_data"
    }
   ],
   "source": [
    "## create new df with only relevant columns\n",
    "pipe_diameters = data[[\"Diameter\",\"Units\", \"pipeType\"]]\n",
    "## convert from inches to mm where the unit column is inches\n",
    "pipe_diameters['PipeAllmm'] = np.where(pipe_diameters[\"Units\"] == 'In',pipe_diameters['Diameter']*25.4,pipe_diameters['Diameter'])\n",
    "## find max pipe diameter to create better graphs\n",
    "## outlier is a raw water main that transports water from source to treatment facility - can be ignored for this project\n",
    "max_pipe_diameter = pipe_diameters['PipeAllmm'].max()\n",
    "max_pipe_diameter_index = pipe_diameters['PipeAllmm'].idxmax()\n",
    "## remove raw water mains as these are of no interest to us - we are focused on post treatment distribution\n",
    "# pipe_diameters = pipe_diameters[pipe_diameters.pipeType != \"Raw Water Main\"] ##leave this in for now\n",
    "# max_pipe_diameter = pipe_diameters['PipeAllmm'].max()\n",
    "# max_pipe_diameter_index = pipe_diameters['PipeAllmm'].idxmax()\n",
    "#### Separate by pipe types - two main types trunk and distribution , others are washout, private, proposed, abandoned, raw\n",
    "\n",
    "distribution_diameters = pipe_diameters[pipe_diameters.pipeType == \"Distribution Main\"]\n",
    "trunk_diameters = pipe_diameters[pipe_diameters.pipeType == \"Trunk Main\"]\n",
    "raw_water_diameters = pipe_diameters[pipe_diameters.pipeType == \"Raw Water Main\"]\n",
    "washout_diameters = pipe_diameters[pipe_diameters.pipeType == \"Washout Main - Potab\"]\n",
    "private_diameters = pipe_diameters[pipe_diameters.pipeType == \"Private Main\"]\n",
    "proposed_diameters = pipe_diameters[pipe_diameters.pipeType == \"Proposed Main\"]\n",
    "abandoned_diameters = pipe_diameters[pipe_diameters.pipeType == \"Abandoned Main\"]\n",
    "\n",
    "## create histogram\n",
    "#comment all but one to see individually\n",
    "\n",
    "plt.hist(distribution_diameters['PipeAllmm'], bins=100)\n",
    "plt.hist(trunk_diameters['PipeAllmm'],color='black', bins=100)\n",
    "plt.hist(washout_diameters['PipeAllmm'],color='green')\n",
    "plt.hist(private_diameters['PipeAllmm'], color ='red', bins = 100)\n",
    "plt.hist(proposed_diameters['PipeAllmm'], color='orange')\n",
    "plt.hist(abandoned_diameters['PipeAllmm'],color='grey', bins=100)\n",
    "plt.hist(raw_water_diameters['PipeAllmm'],color='pink')\n",
    "\n",
    "plt.xlim([0,300])"
   ]
  },
  {
   "attachments": {},
   "cell_type": "markdown",
   "metadata": {},
   "source": [
    "Looking at pipe age and material"
   ]
  },
  {
   "cell_type": "code",
   "execution_count": 34,
   "metadata": {},
   "outputs": [
    {
     "data": {
      "text/plain": [
       "18.909451692051075"
      ]
     },
     "execution_count": 34,
     "metadata": {},
     "output_type": "execute_result"
    },
    {
     "data": {
      "image/png": "[encoded data removed]",
      "text/plain": [
       "<Figure size 432x288 with 1 Axes>"
      ]
     },
     "metadata": {
      "needs_background": "light"
     },
     "output_type": "display_data"
    }
   ],
   "source": [
    "## create a new df with necessary columns\n",
    "\n",
    "pipe_material_age = data[[\"Material\", \"Age_of_Pipe\"]]\n",
    "\n",
    "## see unique materials and count their values\n",
    "\n",
    "# clearly iron is the main material with cast being the biggest and then \n",
    "# other forms of iron also accounting for another 8 or so percent\n",
    "# print(pipe_material_age[\"Material\"].unique())\n",
    "unique_material_counts = pipe_material_age[\"Material\"].value_counts(normalize=True)\n",
    "\n",
    "## Pipe age stuff\n",
    "\n",
    "\n",
    "#plt.hist(pipe_material_age[\"Age_of_Pipe\"])\n",
    "\n",
    "# abandoned_diameters = pipe_diameters[pipe_diameters.pipeType == \"Abandoned Main\"]\n",
    "\n",
    "plt.hist(pipe_material_age[pipe_material_age.Material == 'Cast Iron'][\"Age_of_Pipe\"],color='orange')\n",
    "plt.hist(pipe_material_age[pipe_material_age.Material == 'Polyethylene'][\"Age_of_Pipe\"],color='blue')\n",
    "plt.hist(pipe_material_age[pipe_material_age.Material == 'PVC'][\"Age_of_Pipe\"],alpha=0.5,color='green')\n",
    "plt.hist(pipe_material_age[pipe_material_age.Material == 'Asbestos Cement'][\"Age_of_Pipe\"],alpha=0.5,color='red')\n",
    "plt.hist(pipe_material_age[pipe_material_age.Material == 'Ductile Iron'][\"Age_of_Pipe\"],alpha=0.5,color='grey')\n",
    "plt.hist(pipe_material_age[pipe_material_age.Material == 'Protectaline'][\"Age_of_Pipe\"],alpha=1,color='pink')\n",
    "plt.hist(pipe_material_age[pipe_material_age.Material == 'Spun Iron'][\"Age_of_Pipe\"],alpha=1,color='black')\n",
    "\n",
    "\n",
    "pipe_material_age[pipe_material_age.Material == 'Cast Iron'][\"Age_of_Pipe\"].mean()\n",
    "pipe_material_age[pipe_material_age.Material == 'Polyethylene'][\"Age_of_Pipe\"].mean()"
   ]
  },
  {
   "attachments": {},
   "cell_type": "markdown",
   "metadata": {},
   "source": [
    "Looking at leaks and where they are most likely to occur in terms of pipe diameters, ages, materials, type, etc etc\n",
    "\n",
    "- definitely have average leak flow\n",
    "- note on total leaks found and false positives - 40% FP according to Wessex Water\n",
    "\n"
   ]
  },
  {
   "cell_type": "code",
   "execution_count": 17,
   "metadata": {},
   "outputs": [
    {
     "name": "stdout",
     "output_type": "stream",
     "text": [
      "1.0850325203641604\n"
     ]
    },
    {
     "data": {
      "image/png": "[encoded data removed]",
      "text/plain": [
       "<Figure size 432x288 with 1 Axes>"
      ]
     },
     "metadata": {
      "needs_background": "light"
     },
     "output_type": "display_data"
    }
   ],
   "source": [
    "### create df with necessary data for leaks - will grow\n",
    "\n",
    "leak_data = data[[\"Leakage Saving (m3/hr)\", \"Result\", \"Age_of_Pipe\", \"leakScore\", \"Type_of_PO\", \"dbMin\", \"pipeType\", \"Material\"]]\n",
    "## replace whitespace with nan\n",
    "leak_data = leak_data.replace(r'^\\s*$', np.nan, regex=True)\n",
    "\n",
    "## average leak loss \n",
    "# plt.hist(leak_data['Leakage Saving (m3/hr)'],bins=50)\n",
    "print(leak_data.loc[:, 'Leakage Saving (m3/hr)'].mean())\n",
    "leak_data.loc[:, 'Leakage Saving (m3/hr)'].std()\n",
    "\n",
    "## success rate of 60% with POI that leakage inspectors were sent to investigate\n",
    "unique_leak_investigation_results = leak_data[\"Result\"].value_counts(normalize=False)\n",
    "\n",
    "### leak score by pipe age\n",
    "### drop rows without POI's\n",
    "leak_data_only_POI = leak_data[leak_data['Type_of_PO'].notna()] #Result for ones that were investigated, Type_of_PO for ones that were only flagged\n",
    "# plt.scatter(leak_data_only_POI[\"Age_of_Pipe\"], leak_data_only_POI[\"leakScore\"])\n",
    "\n",
    "### ages of pipes where leaks were investigated/flagged\n",
    "plt.hist(leak_data_only_POI[\"Age_of_Pipe\"])\n",
    "type_pipe_where_leaks_were_investigated_flagged = leak_data_only_POI[\"Material\"].value_counts(normalize=True)\n",
    "\n"
   ]
  },
  {
   "cell_type": "code",
   "execution_count": 13,
   "metadata": {},
   "outputs": [
    {
     "name": "stdout",
     "output_type": "stream",
     "text": [
      "mean 57.939153695666306 std 30.144725375108525\n"
     ]
    }
   ],
   "source": [
    "##### Decision Tree/Random Forest - see what makes the most sense -> Flagged Y/N / Investigated Y/N / Leak Found Y/N\n",
    "\n",
    "flag_or_inv = \"Type_of_PO\"   ## Result or Type_of_PO\n",
    "\n",
    "#### Prepare dataset with necessary cols\n",
    "tree_df = data[[\"Diameter\",\"Units\", \"pipeType\",\"Material\", \"Age_of_Pipe\", flag_or_inv]] # Again Type_of_PO or Result or narrow further into Result\n",
    "## replace whitespace with nan\n",
    "tree_df = tree_df.replace(r'^\\s*$', np.nan, regex=True)\n",
    "## convert from inches to mm where the unit column is inches\n",
    "tree_df['PipeAllmm'] = np.where(tree_df[\"Units\"] == 'In',tree_df['Diameter']*25.4,tree_df['Diameter'])\n",
    "\n",
    "#### Dataset is very imbalanced (many more rows without POI's raised than without)\n",
    "#### Balance dataset by undersampling the negative cases (no POI's raised)\n",
    "# print(len(tree_df), \" rows in entire dataset\")\n",
    "num_flagged_rows = len(tree_df[tree_df[flag_or_inv].notna()])\n",
    "\n",
    "## all cases where something is flagged\n",
    "flag_pos = tree_df[tree_df[flag_or_inv].notna()]\n",
    "## cases where nothing is flagged (column value is NaN), downsample to number of flag \n",
    "flag_neg = tree_df[tree_df[flag_or_inv].isna()].sample(num_flagged_rows)\n",
    "\n",
    "## join sets back together\n",
    "flag_both = pd.concat((flag_pos, flag_neg))\n",
    "\n",
    "\n",
    "\n",
    "### fill nan so that we can compare against nan values\n",
    "flag_both[flag_or_inv] = flag_both[flag_or_inv].fillna('nan')\n",
    "### binarise from flag present or NaN value to 1 and 0 respectively\n",
    "flag_both[flag_or_inv+\"_binary\"] = (flag_both[flag_or_inv] != 'nan').astype(int)\n",
    "\n",
    "### binarise categorical variables\n",
    "flag_both = pd.get_dummies(flag_both, columns=['pipeType'])\n",
    "flag_both = pd.get_dummies(flag_both, columns=['Material'])\n",
    "\n",
    "\n",
    "## find the mean and std of this so it is easier to present in slide\n",
    "print('mean', flag_both['Age_of_Pipe'].mean(), 'std', flag_both['Age_of_Pipe'].std())\n",
    "### normalise continuous variables\n",
    "flag_both['Age_of_Pipe'] = (flag_both['Age_of_Pipe']-flag_both['Age_of_Pipe'].mean())/flag_both['Age_of_Pipe'].std()\n",
    "\n",
    "\n",
    "\n",
    "flag_both['PipeAllmm'] = (flag_both['PipeAllmm']-flag_both['PipeAllmm'].mean())/flag_both['PipeAllmm'].std()\n",
    "\n",
    "\n",
    "### remove unwanted columns - we have replaced diameter and units with PipeAllmm\n",
    "flag_both = flag_both.drop(columns=['Diameter', 'Units', flag_or_inv])\n",
    "\n",
    "flag_both = flag_both.dropna()\n",
    "\n"
   ]
  },
  {
   "cell_type": "code",
   "execution_count": 7,
   "metadata": {},
   "outputs": [],
   "source": [
    "### start with sklearn\n",
    "from sklearn.model_selection import train_test_split\n",
    "\n",
    "#split into train validate test, 0.5,0.25,0.25\n",
    "ttrain, other = train_test_split(flag_both, test_size=0.7, random_state=None)\n",
    "\n",
    "ttvalidation, ttest = train_test_split(other, test_size=0.5, random_state=None)\n",
    "\n",
    "\n",
    "#create the X and y by dropping or keeping columns\n",
    "X_train = ttrain.drop(columns=[flag_or_inv+\"_binary\"])\n",
    "y_train = ttrain[flag_or_inv+\"_binary\"]\n",
    "\n",
    "X_val = ttvalidation.drop(columns=[flag_or_inv+\"_binary\"])\n",
    "y_val = ttvalidation[flag_or_inv+\"_binary\"]\n",
    "\n",
    "X_test = ttest.drop(columns=[flag_or_inv+\"_binary\"])\n",
    "y_test = ttest[flag_or_inv+\"_binary\"]\n"
   ]
  },
  {
   "cell_type": "code",
   "execution_count": 8,
   "metadata": {},
   "outputs": [
    {
     "name": "stdout",
     "output_type": "stream",
     "text": [
      "Accuracy on the val set: 0.6084529505582137\n",
      "Accuracy on the val set: 0.6065922381711856\n",
      "Accuracy on the val set: 0.49800637958532695\n",
      "Accuracy on the test set: 0.6018604651162791\n",
      "Recall on the test set: 0.6481381543443065\n",
      "Precision on the test set: 0.5867122618466047\n"
     ]
    }
   ],
   "source": [
    "############ Decision Tree\n",
    "from sklearn.metrics import accuracy_score, precision_score, recall_score\n",
    "from sklearn import tree\n",
    "\n",
    "clf1 = tree.DecisionTreeClassifier(max_depth=2, min_impurity_decrease=0.0001)\n",
    "clf1.fit(X_train,y_train)\n",
    "print('Accuracy on the val set: {}'.format(accuracy_score(y_val, clf1.predict(X_val))))\n",
    "\n",
    "clf2 = tree.DecisionTreeClassifier(max_depth=3, min_impurity_decrease=0.01)\n",
    "clf2.fit(X_train,y_train)\n",
    "print('Accuracy on the val set: {}'.format(accuracy_score(y_val, clf2.predict(X_val))))\n",
    "\n",
    "clf3 = tree.DecisionTreeClassifier(max_depth=3, min_impurity_decrease=0.05)\n",
    "clf3.fit(X_train,y_train)\n",
    "print('Accuracy on the val set: {}'.format(accuracy_score(y_val, clf3.predict(X_val))))\n",
    "\n",
    "best_model = clf2\n",
    "print('Accuracy on the test set: {}'.format(accuracy_score(y_test, best_model.predict(X_test))))\n",
    "print('Recall on the test set: {}'.format(recall_score(y_test, best_model.predict(X_test))))\n",
    "print('Precision on the test set: {}'.format(precision_score(y_test, best_model.predict(X_test))))"
   ]
  },
  {
   "cell_type": "code",
   "execution_count": 9,
   "metadata": {},
   "outputs": [
    {
     "data": {
      "text/html": [
       "<div>\n",
       "<style scoped>\n",
       "    .dataframe tbody tr th:only-of-type {\n",
       "        vertical-align: middle;\n",
       "    }\n",
       "\n",
       "    .dataframe tbody tr th {\n",
       "        vertical-align: top;\n",
       "    }\n",
       "\n",
       "    .dataframe thead th {\n",
       "        text-align: right;\n",
       "    }\n",
       "</style>\n",
       "<table border=\"1\" class=\"dataframe\">\n",
       "  <thead>\n",
       "    <tr style=\"text-align: right;\">\n",
       "      <th></th>\n",
       "      <th>0</th>\n",
       "    </tr>\n",
       "  </thead>\n",
       "  <tbody>\n",
       "    <tr>\n",
       "      <th>Age_of_Pipe</th>\n",
       "      <td>0.822653</td>\n",
       "    </tr>\n",
       "    <tr>\n",
       "      <th>Material_Cast Iron</th>\n",
       "      <td>0.124335</td>\n",
       "    </tr>\n",
       "    <tr>\n",
       "      <th>pipeType_Distribution Main</th>\n",
       "      <td>0.053012</td>\n",
       "    </tr>\n",
       "    <tr>\n",
       "      <th>Material_Grey Iron</th>\n",
       "      <td>0.000000</td>\n",
       "    </tr>\n",
       "    <tr>\n",
       "      <th>Material_Steel</th>\n",
       "      <td>0.000000</td>\n",
       "    </tr>\n",
       "    <tr>\n",
       "      <th>Material_Spun Iron</th>\n",
       "      <td>0.000000</td>\n",
       "    </tr>\n",
       "    <tr>\n",
       "      <th>Material_Protectaline</th>\n",
       "      <td>0.000000</td>\n",
       "    </tr>\n",
       "    <tr>\n",
       "      <th>Material_Polyethylene</th>\n",
       "      <td>0.000000</td>\n",
       "    </tr>\n",
       "    <tr>\n",
       "      <th>Material_Plastic/Polythene</th>\n",
       "      <td>0.000000</td>\n",
       "    </tr>\n",
       "    <tr>\n",
       "      <th>Material_PVC</th>\n",
       "      <td>0.000000</td>\n",
       "    </tr>\n",
       "    <tr>\n",
       "      <th>Material_Lead</th>\n",
       "      <td>0.000000</td>\n",
       "    </tr>\n",
       "    <tr>\n",
       "      <th>Material_Hepworth 30</th>\n",
       "      <td>0.000000</td>\n",
       "    </tr>\n",
       "    <tr>\n",
       "      <th>Material_Ductile Iron</th>\n",
       "      <td>0.000000</td>\n",
       "    </tr>\n",
       "    <tr>\n",
       "      <th>Material_Galvernised Iron</th>\n",
       "      <td>0.000000</td>\n",
       "    </tr>\n",
       "    <tr>\n",
       "      <th>PipeAllmm</th>\n",
       "      <td>0.000000</td>\n",
       "    </tr>\n",
       "    <tr>\n",
       "      <th>Material_Asbestos Cement</th>\n",
       "      <td>0.000000</td>\n",
       "    </tr>\n",
       "    <tr>\n",
       "      <th>pipeType_Washout Main - Potab</th>\n",
       "      <td>0.000000</td>\n",
       "    </tr>\n",
       "    <tr>\n",
       "      <th>pipeType_Trunk Main</th>\n",
       "      <td>0.000000</td>\n",
       "    </tr>\n",
       "    <tr>\n",
       "      <th>pipeType_Raw Water Main</th>\n",
       "      <td>0.000000</td>\n",
       "    </tr>\n",
       "    <tr>\n",
       "      <th>pipeType_Proposed Main</th>\n",
       "      <td>0.000000</td>\n",
       "    </tr>\n",
       "    <tr>\n",
       "      <th>pipeType_Private Main</th>\n",
       "      <td>0.000000</td>\n",
       "    </tr>\n",
       "    <tr>\n",
       "      <th>pipeType_Abandoned Main</th>\n",
       "      <td>0.000000</td>\n",
       "    </tr>\n",
       "    <tr>\n",
       "      <th>Material_Unknown</th>\n",
       "      <td>0.000000</td>\n",
       "    </tr>\n",
       "  </tbody>\n",
       "</table>\n",
       "</div>"
      ],
      "text/plain": [
       "                                      0\n",
       "Age_of_Pipe                    0.822653\n",
       "Material_Cast Iron             0.124335\n",
       "pipeType_Distribution Main     0.053012\n",
       "Material_Grey Iron             0.000000\n",
       "Material_Steel                 0.000000\n",
       "Material_Spun Iron             0.000000\n",
       "Material_Protectaline          0.000000\n",
       "Material_Polyethylene          0.000000\n",
       "Material_Plastic/Polythene     0.000000\n",
       "Material_PVC                   0.000000\n",
       "Material_Lead                  0.000000\n",
       "Material_Hepworth 30           0.000000\n",
       "Material_Ductile Iron          0.000000\n",
       "Material_Galvernised Iron      0.000000\n",
       "PipeAllmm                      0.000000\n",
       "Material_Asbestos Cement       0.000000\n",
       "pipeType_Washout Main - Potab  0.000000\n",
       "pipeType_Trunk Main            0.000000\n",
       "pipeType_Raw Water Main        0.000000\n",
       "pipeType_Proposed Main         0.000000\n",
       "pipeType_Private Main          0.000000\n",
       "pipeType_Abandoned Main        0.000000\n",
       "Material_Unknown               0.000000"
      ]
     },
     "execution_count": 9,
     "metadata": {},
     "output_type": "execute_result"
    }
   ],
   "source": [
    "####### Looking at feature importance\n",
    "feature_importance = pd.DataFrame(clf1.feature_importances_, index=X_train.columns).sort_values(0,ascending=False)\n",
    "feature_importance"
   ]
  },
  {
   "cell_type": "code",
   "execution_count": 10,
   "metadata": {},
   "outputs": [
    {
     "name": "stdout",
     "output_type": "stream",
     "text": [
      "0.6109782030834663\n"
     ]
    }
   ],
   "source": [
    "from sklearn.ensemble import RandomForestClassifier\n",
    "model = RandomForestClassifier(max_depth=4, min_samples_split=4)\n",
    "model = model.fit(X_train, y_train)\n",
    "ypred = model.predict(X_val)\n",
    "acc = accuracy_score(y_val, ypred)\n",
    "print(acc)"
   ]
  },
  {
   "cell_type": "code",
   "execution_count": 11,
   "metadata": {},
   "outputs": [
    {
     "data": {
      "image/svg+xml": "<?xml version=\"1.0\" encoding=\"UTF-8\" standalone=\"no\"?>\n<!DOCTYPE svg PUBLIC \"-//W3C//DTD SVG 1.1//EN\"\n \"http://www.w3.org/Graphics/SVG/1.1/DTD/svg11.dtd\">\n<!-- Generated by graphviz version 2.40.1 (20161225.0304)\n -->\n<!-- Title: Tree Pages: 1 -->\n<svg width=\"625pt\" height=\"314pt\"\n viewBox=\"0.00 0.00 625.00 314.00\" xmlns=\"http://www.w3.org/2000/svg\" xmlns:xlink=\"http://www.w3.org/1999/xlink\">\n<g id=\"graph0\" class=\"graph\" transform=\"scale(1 1) rotate(0) translate(4 310)\">\n<title>Tree</title>\n<polygon fill=\"#ffffff\" stroke=\"transparent\" points=\"-4,4 -4,-310 621,-310 621,4 -4,4\"/>\n<!-- 0 -->\n<g id=\"node1\" class=\"node\">\n<title>0</title>\n<path fill=\"#fefaf7\" stroke=\"#000000\" d=\"M366,-306C366,-306 246,-306 246,-306 240,-306 234,-300 234,-294 234,-294 234,-235 234,-235 234,-229 240,-223 246,-223 246,-223 366,-223 366,-223 372,-223 378,-229 378,-235 378,-235 378,-294 378,-294 378,-300 372,-306 366,-306\"/>\n<text text-anchor=\"start\" x=\"242\" y=\"-290.8\" font-family=\"Helvetica,sans-Serif\" font-size=\"14.00\" fill=\"#000000\">Age_of_Pipe ≤ &#45;0.18</text>\n<text text-anchor=\"start\" x=\"277\" y=\"-275.8\" font-family=\"Helvetica,sans-Serif\" font-size=\"14.00\" fill=\"#000000\">gini = 0.5</text>\n<text text-anchor=\"start\" x=\"256\" y=\"-260.8\" font-family=\"Helvetica,sans-Serif\" font-size=\"14.00\" fill=\"#000000\">samples = 6449</text>\n<text text-anchor=\"start\" x=\"242\" y=\"-245.8\" font-family=\"Helvetica,sans-Serif\" font-size=\"14.00\" fill=\"#000000\">value = [3292, 3157]</text>\n<text text-anchor=\"start\" x=\"259\" y=\"-230.8\" font-family=\"Helvetica,sans-Serif\" font-size=\"14.00\" fill=\"#000000\">class = No POI</text>\n</g>\n<!-- 1 -->\n<g id=\"node2\" class=\"node\">\n<title>1</title>\n<path fill=\"#f4ccaf\" stroke=\"#000000\" d=\"M271,-187C271,-187 129,-187 129,-187 123,-187 117,-181 117,-175 117,-175 117,-116 117,-116 117,-110 123,-104 129,-104 129,-104 271,-104 271,-104 277,-104 283,-110 283,-116 283,-116 283,-175 283,-175 283,-181 277,-187 271,-187\"/>\n<text text-anchor=\"start\" x=\"125\" y=\"-171.8\" font-family=\"Helvetica,sans-Serif\" font-size=\"14.00\" fill=\"#000000\">Material_Cast Iron ≤ 0.5</text>\n<text text-anchor=\"start\" x=\"163.5\" y=\"-156.8\" font-family=\"Helvetica,sans-Serif\" font-size=\"14.00\" fill=\"#000000\">gini = 0.468</text>\n<text text-anchor=\"start\" x=\"150\" y=\"-141.8\" font-family=\"Helvetica,sans-Serif\" font-size=\"14.00\" fill=\"#000000\">samples = 2901</text>\n<text text-anchor=\"start\" x=\"136\" y=\"-126.8\" font-family=\"Helvetica,sans-Serif\" font-size=\"14.00\" fill=\"#000000\">value = [1820, 1081]</text>\n<text text-anchor=\"start\" x=\"153\" y=\"-111.8\" font-family=\"Helvetica,sans-Serif\" font-size=\"14.00\" fill=\"#000000\">class = No POI</text>\n</g>\n<!-- 0&#45;&gt;1 -->\n<g id=\"edge1\" class=\"edge\">\n<title>0&#45;&gt;1</title>\n<path fill=\"none\" stroke=\"#000000\" d=\"M268.9263,-222.8796C260.9039,-213.8733 252.3448,-204.2644 244.0833,-194.9897\"/>\n<polygon fill=\"#000000\" stroke=\"#000000\" points=\"246.4969,-192.4373 237.2319,-187.2981 241.2698,-197.0933 246.4969,-192.4373\"/>\n<text text-anchor=\"middle\" x=\"235.7899\" y=\"-208.5564\" font-family=\"Helvetica,sans-Serif\" font-size=\"14.00\" fill=\"#000000\">True</text>\n</g>\n<!-- 4 -->\n<g id=\"node5\" class=\"node\">\n<title>4</title>\n<path fill=\"#c5e2f7\" stroke=\"#000000\" d=\"M510.5,-187C510.5,-187 313.5,-187 313.5,-187 307.5,-187 301.5,-181 301.5,-175 301.5,-175 301.5,-116 301.5,-116 301.5,-110 307.5,-104 313.5,-104 313.5,-104 510.5,-104 510.5,-104 516.5,-104 522.5,-110 522.5,-116 522.5,-116 522.5,-175 522.5,-175 522.5,-181 516.5,-187 510.5,-187\"/>\n<text text-anchor=\"start\" x=\"309.5\" y=\"-171.8\" font-family=\"Helvetica,sans-Serif\" font-size=\"14.00\" fill=\"#000000\">pipeType_Distribution Main ≤ 0.5</text>\n<text text-anchor=\"start\" x=\"375.5\" y=\"-156.8\" font-family=\"Helvetica,sans-Serif\" font-size=\"14.00\" fill=\"#000000\">gini = 0.486</text>\n<text text-anchor=\"start\" x=\"362\" y=\"-141.8\" font-family=\"Helvetica,sans-Serif\" font-size=\"14.00\" fill=\"#000000\">samples = 3548</text>\n<text text-anchor=\"start\" x=\"348\" y=\"-126.8\" font-family=\"Helvetica,sans-Serif\" font-size=\"14.00\" fill=\"#000000\">value = [1472, 2076]</text>\n<text text-anchor=\"start\" x=\"376\" y=\"-111.8\" font-family=\"Helvetica,sans-Serif\" font-size=\"14.00\" fill=\"#000000\">class = POI</text>\n</g>\n<!-- 0&#45;&gt;4 -->\n<g id=\"edge4\" class=\"edge\">\n<title>0&#45;&gt;4</title>\n<path fill=\"none\" stroke=\"#000000\" d=\"M343.0737,-222.8796C351.0961,-213.8733 359.6552,-204.2644 367.9167,-194.9897\"/>\n<polygon fill=\"#000000\" stroke=\"#000000\" points=\"370.7302,-197.0933 374.7681,-187.2981 365.5031,-192.4373 370.7302,-197.0933\"/>\n<text text-anchor=\"middle\" x=\"376.2101\" y=\"-208.5564\" font-family=\"Helvetica,sans-Serif\" font-size=\"14.00\" fill=\"#000000\">False</text>\n</g>\n<!-- 2 -->\n<g id=\"node3\" class=\"node\">\n<title>2</title>\n<path fill=\"#f3c6a6\" stroke=\"#000000\" d=\"M124,-68C124,-68 12,-68 12,-68 6,-68 0,-62 0,-56 0,-56 0,-12 0,-12 0,-6 6,0 12,0 12,0 124,0 124,0 130,0 136,-6 136,-12 136,-12 136,-56 136,-56 136,-62 130,-68 124,-68\"/>\n<text text-anchor=\"start\" x=\"31.5\" y=\"-52.8\" font-family=\"Helvetica,sans-Serif\" font-size=\"14.00\" fill=\"#000000\">gini = 0.458</text>\n<text text-anchor=\"start\" x=\"18\" y=\"-37.8\" font-family=\"Helvetica,sans-Serif\" font-size=\"14.00\" fill=\"#000000\">samples = 2664</text>\n<text text-anchor=\"start\" x=\"8\" y=\"-22.8\" font-family=\"Helvetica,sans-Serif\" font-size=\"14.00\" fill=\"#000000\">value = [1720, 944]</text>\n<text text-anchor=\"start\" x=\"21\" y=\"-7.8\" font-family=\"Helvetica,sans-Serif\" font-size=\"14.00\" fill=\"#000000\">class = No POI</text>\n</g>\n<!-- 1&#45;&gt;2 -->\n<g id=\"edge2\" class=\"edge\">\n<title>1&#45;&gt;2</title>\n<path fill=\"none\" stroke=\"#000000\" d=\"M150.8481,-103.9815C139.5324,-94.4232 127.5087,-84.2668 116.2325,-74.7419\"/>\n<polygon fill=\"#000000\" stroke=\"#000000\" points=\"118.4612,-72.0429 108.5633,-68.2637 113.9441,-77.3904 118.4612,-72.0429\"/>\n</g>\n<!-- 3 -->\n<g id=\"node4\" class=\"node\">\n<title>3</title>\n<path fill=\"#cae5f8\" stroke=\"#000000\" d=\"M270,-68C270,-68 166,-68 166,-68 160,-68 154,-62 154,-56 154,-56 154,-12 154,-12 154,-6 160,0 166,0 166,0 270,0 270,0 276,0 282,-6 282,-12 282,-12 282,-56 282,-56 282,-62 276,-68 270,-68\"/>\n<text text-anchor=\"start\" x=\"181.5\" y=\"-52.8\" font-family=\"Helvetica,sans-Serif\" font-size=\"14.00\" fill=\"#000000\">gini = 0.488</text>\n<text text-anchor=\"start\" x=\"172\" y=\"-37.8\" font-family=\"Helvetica,sans-Serif\" font-size=\"14.00\" fill=\"#000000\">samples = 237</text>\n<text text-anchor=\"start\" x=\"162\" y=\"-22.8\" font-family=\"Helvetica,sans-Serif\" font-size=\"14.00\" fill=\"#000000\">value = [100, 137]</text>\n<text text-anchor=\"start\" x=\"182\" y=\"-7.8\" font-family=\"Helvetica,sans-Serif\" font-size=\"14.00\" fill=\"#000000\">class = POI</text>\n</g>\n<!-- 1&#45;&gt;3 -->\n<g id=\"edge3\" class=\"edge\">\n<title>1&#45;&gt;3</title>\n<path fill=\"none\" stroke=\"#000000\" d=\"M206.7025,-103.9815C208.0527,-95.618 209.4768,-86.7965 210.8418,-78.3409\"/>\n<polygon fill=\"#000000\" stroke=\"#000000\" points=\"214.3301,-78.6937 212.4686,-68.2637 207.4196,-77.578 214.3301,-78.6937\"/>\n</g>\n<!-- 5 -->\n<g id=\"node6\" class=\"node\">\n<title>5</title>\n<path fill=\"#f9e4d4\" stroke=\"#000000\" d=\"M443,-68C443,-68 347,-68 347,-68 341,-68 335,-62 335,-56 335,-56 335,-12 335,-12 335,-6 341,0 347,0 347,0 443,0 443,0 449,0 455,-6 455,-12 455,-12 455,-56 455,-56 455,-62 449,-68 443,-68\"/>\n<text text-anchor=\"start\" x=\"358.5\" y=\"-52.8\" font-family=\"Helvetica,sans-Serif\" font-size=\"14.00\" fill=\"#000000\">gini = 0.493</text>\n<text text-anchor=\"start\" x=\"349\" y=\"-37.8\" font-family=\"Helvetica,sans-Serif\" font-size=\"14.00\" fill=\"#000000\">samples = 205</text>\n<text text-anchor=\"start\" x=\"343\" y=\"-22.8\" font-family=\"Helvetica,sans-Serif\" font-size=\"14.00\" fill=\"#000000\">value = [115, 90]</text>\n<text text-anchor=\"start\" x=\"348\" y=\"-7.8\" font-family=\"Helvetica,sans-Serif\" font-size=\"14.00\" fill=\"#000000\">class = No POI</text>\n</g>\n<!-- 4&#45;&gt;5 -->\n<g id=\"edge5\" class=\"edge\">\n<title>4&#45;&gt;5</title>\n<path fill=\"none\" stroke=\"#000000\" d=\"M405.6698,-103.9815C404.3947,-95.618 403.0497,-86.7965 401.7605,-78.3409\"/>\n<polygon fill=\"#000000\" stroke=\"#000000\" points=\"405.1914,-77.6219 400.2241,-68.2637 398.2714,-78.677 405.1914,-77.6219\"/>\n</g>\n<!-- 6 -->\n<g id=\"node7\" class=\"node\">\n<title>6</title>\n<path fill=\"#c0e0f7\" stroke=\"#000000\" d=\"M605,-68C605,-68 485,-68 485,-68 479,-68 473,-62 473,-56 473,-56 473,-12 473,-12 473,-6 479,0 485,0 485,0 605,0 605,0 611,0 617,-6 617,-12 617,-12 617,-56 617,-56 617,-62 611,-68 605,-68\"/>\n<text text-anchor=\"start\" x=\"508.5\" y=\"-52.8\" font-family=\"Helvetica,sans-Serif\" font-size=\"14.00\" fill=\"#000000\">gini = 0.482</text>\n<text text-anchor=\"start\" x=\"495\" y=\"-37.8\" font-family=\"Helvetica,sans-Serif\" font-size=\"14.00\" fill=\"#000000\">samples = 3343</text>\n<text text-anchor=\"start\" x=\"481\" y=\"-22.8\" font-family=\"Helvetica,sans-Serif\" font-size=\"14.00\" fill=\"#000000\">value = [1357, 1986]</text>\n<text text-anchor=\"start\" x=\"509\" y=\"-7.8\" font-family=\"Helvetica,sans-Serif\" font-size=\"14.00\" fill=\"#000000\">class = POI</text>\n</g>\n<!-- 4&#45;&gt;6 -->\n<g id=\"edge6\" class=\"edge\">\n<title>4&#45;&gt;6</title>\n<path fill=\"none\" stroke=\"#000000\" d=\"M461.5243,-103.9815C472.9257,-94.4232 485.0405,-84.2668 496.4021,-74.7419\"/>\n<polygon fill=\"#000000\" stroke=\"#000000\" points=\"498.7147,-77.3704 504.1294,-68.2637 494.2175,-72.006 498.7147,-77.3704\"/>\n</g>\n</g>\n</svg>\n",
      "text/plain": [
       "<graphviz.files.Source at 0x7fc57861c640>"
      ]
     },
     "execution_count": 11,
     "metadata": {},
     "output_type": "execute_result"
    }
   ],
   "source": [
    "######## Visualise the decision tree/random forest\n",
    "\n",
    "import sklearn.tree as tree\n",
    "import graphviz\n",
    "dot_data = tree.export_graphviz(clf1, out_file=None) \n",
    "graph = graphviz.Source(dot_data) \n",
    "\n",
    "predictors = X_train.columns\n",
    "dot_data = tree.export_graphviz(clf1, out_file=None,\n",
    "                                feature_names = predictors,\n",
    "                                class_names = ('No POI', 'POI'),\n",
    "                                filled = True, rounded = True,\n",
    "                                special_characters = True)\n",
    "graph = graphviz.Source(dot_data)  \n",
    "graph "
   ]
  }
 ],
 "metadata": {
  "kernelspec": {
   "display_name": "Python 3.8.2 ('base')",
   "language": "python",
   "name": "python3"
  },
  "language_info": {
   "codemirror_mode": {
    "name": "ipython",
    "version": 3
   },
   "file_extension": ".py",
   "mimetype": "text/x-python",
   "name": "python",
   "nbconvert_exporter": "python",
   "pygments_lexer": "ipython3",
   "version": "3.8.2"
  },
  "orig_nbformat": 4,
  "vscode": {
   "interpreter": {
    "hash": "be13fda50f3786b4b4715198eb33d83f168f35e54f074f12eb8b5081fa586885"
   }
  }
 },
 "nbformat": 4,
 "nbformat_minor": 2
}
